{
 "cells": [
  {
   "cell_type": "markdown",
   "metadata": {},
   "source": [
    "Write a function to check whether a number is a prime number or not."
   ]
  },
  {
   "cell_type": "code",
   "execution_count": 16,
   "metadata": {},
   "outputs": [],
   "source": [
    "isPrime <- function(n) {\n",
    "    if (n == 1 | n == 2) return(TRUE)\n",
    "    for (i in 2:(n/2)) {\n",
    "        if (n %% i == 0) return(FALSE)\n",
    "    }\n",
    "    TRUE\n",
    "}"
   ]
  },
  {
   "cell_type": "markdown",
   "metadata": {},
   "source": [
    "Write a function to check whether two given strings are an anagram."
   ]
  },
  {
   "cell_type": "code",
   "execution_count": 45,
   "metadata": {},
   "outputs": [],
   "source": [
    "isAnagram <- function(word1, word2) {\n",
    "    if (nchar(word1) != nchar(word2)) return(FALSE)    \n",
    "    chars1 <- unlist(strsplit(word1, split=\"\"))\n",
    "    chars2 <- unlist(strsplit(word2, split=\"\"))\n",
    "    !any(sort(chars1) != sort(chars2))\n",
    "}"
   ]
  },
  {
   "cell_type": "markdown",
   "metadata": {},
   "source": [
    "Write a function that rotates a list by k elements. For example `[1,2,3,4,5,6]` rotated by two becomes `[3,4,5,6,1,2]`."
   ]
  },
  {
   "cell_type": "code",
   "execution_count": 53,
   "metadata": {},
   "outputs": [
    {
     "data": {
      "text/html": [
       "<ol class=list-inline>\n",
       "\t<li>4</li>\n",
       "\t<li>5</li>\n",
       "\t<li>1</li>\n",
       "\t<li>2</li>\n",
       "\t<li>3</li>\n",
       "</ol>\n"
      ]
     },
     "execution_count": 53,
     "metadata": {},
     "output_type": "execute_result"
    }
   ],
   "source": [
    "shift <- function(lis, k) c(lis[(length(lis)-k+1):length(lis)],lis[1:(length(lis)-k)])\n",
    "\n",
    "shift(c(1, 2, 3, 4, 5), 2)\n",
    "\n",
    "# Having one-line functions is not always a good thing, since they can be hard to interpret.\n",
    "# Can you make the function above more interpretable by adding intermediary steps?"
   ]
  },
  {
   "cell_type": "markdown",
   "metadata": {},
   "source": [
    "Write a function that computes the list of the first $n$ Fibonacci numbers. The first two Fibonacci numbers are 1 and 1. The $n+1$-st Fibonacci number can be computed by adding the $n$-th and the $n-1$-th Fibonacci number. The first few are therefore $1, 1, 1+1=2, 1+2=3, 2+3=5, 3+5=8$."
   ]
  },
  {
   "cell_type": "code",
   "execution_count": 61,
   "metadata": {},
   "outputs": [
    {
     "data": {
      "text/html": [
       "<ol class=list-inline>\n",
       "\t<li>1</li>\n",
       "\t<li>1</li>\n",
       "\t<li>2</li>\n",
       "\t<li>3</li>\n",
       "\t<li>5</li>\n",
       "\t<li>8</li>\n",
       "\t<li>13</li>\n",
       "\t<li>21</li>\n",
       "\t<li>34</li>\n",
       "\t<li>55</li>\n",
       "</ol>\n"
      ]
     },
     "execution_count": 61,
     "metadata": {},
     "output_type": "execute_result"
    }
   ],
   "source": [
    "fib_sequence <- function(n) {\n",
    "  x = numeric(n)\n",
    "  x[1:2] = c(1,1)\n",
    "  for(i in 3:n) x[i] = x[i-1] + x[i-2]\n",
    "  return(x)\n",
    "}\n",
    "\n",
    "fib_sequence(10)"
   ]
  }
 ],
 "metadata": {
  "kernelspec": {
   "display_name": "R",
   "language": "R",
   "name": "ir"
  },
  "language_info": {
   "codemirror_mode": "r",
   "file_extension": ".r",
   "mimetype": "text/x-r-source",
   "name": "R",
   "pygments_lexer": "r",
   "version": "3.4.2"
  },
  "toc": {
   "base_numbering": 1,
   "nav_menu": {},
   "number_sections": true,
   "sideBar": true,
   "skip_h1_title": false,
   "title_cell": "Table of Contents",
   "title_sidebar": "Contents",
   "toc_cell": false,
   "toc_position": {},
   "toc_section_display": true,
   "toc_window_display": false
  },
  "varInspector": {
   "cols": {
    "lenName": 16,
    "lenType": 16,
    "lenVar": 40
   },
   "kernels_config": {
    "python": {
     "delete_cmd_postfix": "",
     "delete_cmd_prefix": "del ",
     "library": "var_list.py",
     "varRefreshCmd": "print(var_dic_list())"
    },
    "r": {
     "delete_cmd_postfix": ") ",
     "delete_cmd_prefix": "rm(",
     "library": "var_list.r",
     "varRefreshCmd": "cat(var_dic_list()) "
    }
   },
   "types_to_exclude": [
    "module",
    "function",
    "builtin_function_or_method",
    "instance",
    "_Feature"
   ],
   "window_display": false
  }
 },
 "nbformat": 4,
 "nbformat_minor": 1
}
