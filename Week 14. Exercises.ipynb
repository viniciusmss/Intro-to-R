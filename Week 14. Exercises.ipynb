{
 "cells": [
  {
   "cell_type": "markdown",
   "metadata": {},
   "source": [
    "Use R to create a fake data set that contains 200 observations.\n",
    "\n",
    "Your data set should consist of a single (continuous) dependent variable and at least two independent variables (also known as factors, or predictors).\n",
    "\n",
    "Make sure that your independent variables predict the dependent variable, but make sure that they do not PERFECTLY predict the dependent variable. This means you have to add some random noise to your model. Feel free to create this random noise, and your independent variables using R’s random distribution functions (e.g., rnorm, runif) or any other method you wish.\n",
    "\n",
    "E.g., your formula could be:\n",
    "\n",
    "$20*Age + 50*(Education)^2 - 2*Gender + 4*treatment\\_indicator*gender + 10*treat + treatment\\_indicator/(\\log(parents\\_income)) + N(0, 10).$ \n",
    "\n",
    "This rather complex formula would work if you had already created a dataframe with age, education, gender, treatment_indicator, and parents_income. Your formula need not be quite so complex. A simple formula is fine, as long as it meets the requirements. The `N(0, 10)` item at the end is where you would use `rnorm(200, 0, 10)`...\n",
    "Devise a story about the data set — what does it describe? Write down your short story in a paragraph about 3-5 sentences long.\n",
    "\n",
    "Save your data (and the code that created it, if you used code), so that we will be able to utilize your creation whenever necessary."
   ]
  },
  {
   "cell_type": "code",
   "execution_count": 0,
   "metadata": {},
   "outputs": [],
   "source": []
  }
 ],
 "metadata": {
  "kernelspec": {
   "display_name": "R",
   "language": "R",
   "name": "ir"
  },
  "language_info": {
   "codemirror_mode": "r",
   "file_extension": ".r",
   "mimetype": "text/x-r-source",
   "name": "R",
   "pygments_lexer": "r",
   "version": "3.4.2"
  },
  "toc": {
   "base_numbering": 1,
   "nav_menu": {},
   "number_sections": true,
   "sideBar": true,
   "skip_h1_title": false,
   "title_cell": "Table of Contents",
   "title_sidebar": "Contents",
   "toc_cell": false,
   "toc_position": {},
   "toc_section_display": true,
   "toc_window_display": false
  },
  "varInspector": {
   "cols": {
    "lenName": 16,
    "lenType": 16,
    "lenVar": 40
   },
   "kernels_config": {
    "python": {
     "delete_cmd_postfix": "",
     "delete_cmd_prefix": "del ",
     "library": "var_list.py",
     "varRefreshCmd": "print(var_dic_list())"
    },
    "r": {
     "delete_cmd_postfix": ") ",
     "delete_cmd_prefix": "rm(",
     "library": "var_list.r",
     "varRefreshCmd": "cat(var_dic_list()) "
    }
   },
   "types_to_exclude": [
    "module",
    "function",
    "builtin_function_or_method",
    "instance",
    "_Feature"
   ],
   "window_display": false
  }
 },
 "nbformat": 4,
 "nbformat_minor": 1
}
