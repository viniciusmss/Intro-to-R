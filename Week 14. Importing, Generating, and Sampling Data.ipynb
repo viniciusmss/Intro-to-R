{
 "cells": [
  {
   "cell_type": "markdown",
   "metadata": {},
   "source": [
    "## R Prep Minicourse\n",
    "### Week 14: Importing, Generating, and Sampling Data\n",
    "\n",
    "**Credits:** Importing Data in R [(Part 1)](https://www.datacamp.com/courses/importing-data-in-r-part-1) and [(Part 2)](https://www.datacamp.com/courses/importing-data-in-r-part-2e) Tutorials."
   ]
  },
  {
   "cell_type": "markdown",
   "metadata": {},
   "source": [
    "#### Importing data\n",
    "\n",
    "CSV files can be imported with `read_csv()`. This function is part of the `readr` package. It can receive both a path to the file or a URL. For example:\n",
    "\n",
    "`read_csv(\"potatoes.csv\")`"
   ]
  },
  {
   "cell_type": "code",
   "execution_count": 1,
   "metadata": {
    "ExecuteTime": {
     "end_time": "2019-05-13T14:12:25.017953Z",
     "start_time": "2019-05-13T14:12:24.401Z"
    }
   },
   "outputs": [
    {
     "name": "stderr",
     "output_type": "stream",
     "text": [
      "Parsed with column specification:\n",
      "cols(\n",
      "  area = col_integer(),\n",
      "  temp = col_integer(),\n",
      "  size = col_integer(),\n",
      "  storage = col_integer(),\n",
      "  method = col_integer(),\n",
      "  texture = col_double(),\n",
      "  flavor = col_double(),\n",
      "  moistness = col_double()\n",
      ")\n"
     ]
    }
   ],
   "source": [
    "# Load the readr package\n",
    "library(readr)\n",
    "\n",
    "# Import potatoes.csv with read_csv(): potatoes\n",
    "# \"potatoes.csv\" is the file path. I have added the csv file in the folder\n",
    "# of this jupyter notebook.\n",
    "potatoes <- read_csv(\"potatoes.csv\")\n",
    "\n",
    "# which is equivalent to the above. However, CoCalc has no network access, so this doesn't work. It would work in RStudio.\n",
    "# potatoes <- read_csv(\"http://s3.amazonaws.com/assets.datacamp.com/production/course_1477/datasets/potatoes.csv\")"
   ]
  },
  {
   "cell_type": "code",
   "execution_count": 2,
   "metadata": {
    "ExecuteTime": {
     "end_time": "2019-05-13T14:12:25.133644Z",
     "start_time": "2019-05-13T14:12:24.406Z"
    }
   },
   "outputs": [
    {
     "data": {
      "text/html": [
       "<table>\n",
       "<thead><tr><th scope=col>area</th><th scope=col>temp</th><th scope=col>size</th><th scope=col>storage</th><th scope=col>method</th><th scope=col>texture</th><th scope=col>flavor</th><th scope=col>moistness</th></tr></thead>\n",
       "<tbody>\n",
       "\t<tr><td>1  </td><td>1  </td><td>1  </td><td>1  </td><td>1  </td><td>2.9</td><td>3.2</td><td>3.0</td></tr>\n",
       "\t<tr><td>1  </td><td>1  </td><td>1  </td><td>1  </td><td>2  </td><td>2.3</td><td>2.5</td><td>2.6</td></tr>\n",
       "\t<tr><td>1  </td><td>1  </td><td>1  </td><td>1  </td><td>3  </td><td>2.5</td><td>2.8</td><td>2.8</td></tr>\n",
       "</tbody>\n",
       "</table>\n"
      ],
      "text/latex": [
       "\\begin{tabular}{r|llllllll}\n",
       " area & temp & size & storage & method & texture & flavor & moistness\\\\\n",
       "\\hline\n",
       "\t 1   & 1   & 1   & 1   & 1   & 2.9 & 3.2 & 3.0\\\\\n",
       "\t 1   & 1   & 1   & 1   & 2   & 2.3 & 2.5 & 2.6\\\\\n",
       "\t 1   & 1   & 1   & 1   & 3   & 2.5 & 2.8 & 2.8\\\\\n",
       "\\end{tabular}\n"
      ],
      "text/markdown": [
       "\n",
       "| area | temp | size | storage | method | texture | flavor | moistness |\n",
       "|---|---|---|---|---|---|---|---|\n",
       "| 1   | 1   | 1   | 1   | 1   | 2.9 | 3.2 | 3.0 |\n",
       "| 1   | 1   | 1   | 1   | 2   | 2.3 | 2.5 | 2.6 |\n",
       "| 1   | 1   | 1   | 1   | 3   | 2.5 | 2.8 | 2.8 |\n",
       "\n"
      ],
      "text/plain": [
       "  area temp size storage method texture flavor moistness\n",
       "1 1    1    1    1       1      2.9     3.2    3.0      \n",
       "2 1    1    1    1       2      2.3     2.5    2.6      \n",
       "3 1    1    1    1       3      2.5     2.8    2.8      "
      ]
     },
     "metadata": {},
     "output_type": "display_data"
    }
   ],
   "source": [
    "head(potatoes, 3)"
   ]
  },
  {
   "cell_type": "markdown",
   "metadata": {},
   "source": [
    "Sometimes, you will have to use the optional argument. A common one is `skip`. Several datasets come with descriptions in their first rows, instead of showing the data straightaway. In these cases, you can use `skip` to specify how many of the first rows you wish to ignore. See this example:"
   ]
  },
  {
   "cell_type": "code",
   "execution_count": 3,
   "metadata": {
    "ExecuteTime": {
     "end_time": "2019-05-13T14:12:25.757976Z",
     "start_time": "2019-05-13T14:12:24.410Z"
    }
   },
   "outputs": [
    {
     "name": "stderr",
     "output_type": "stream",
     "text": [
      "Parsed with column specification:\n",
      "cols(\n",
      "  `-------------------------------------------------------------------------------------------` = col_character()\n",
      ")\n",
      "Warning message in rbind(names(probs), probs_f):\n",
      "\"number of columns of result is not a multiple of vector length (arg 1)\"Warning message:\n",
      "\"3093 parsing failures.\n",
      "row # A tibble: 5 x 5 col     row col                                 expected     actual  file           expected   <int> <chr>                               <chr>        <chr>   <chr>          actual 1    32 ----------------------------------~ delimiter o~ A       'weekly_in_si~ file 2    32 <NA>                                1 columns    2 colu~ 'weekly_in_si~ row 3    44 <NA>                                1 columns    2 colu~ 'weekly_in_si~ col 4    45 <NA>                                1 columns    2 colu~ 'weekly_in_si~ expected 5    46 <NA>                                1 columns    2 colu~ 'weekly_in_si~\n",
      "... ................. ... ............................................................................... ........ ............................................................................... ...... ............................................................................... .... ............................................................................... ... ............................................................................... ... ............................................................................... ........ ...............................................................................\n",
      "See problems(...) for more details.\n",
      "\""
     ]
    },
    {
     "data": {
      "text/html": [
       "<table>\n",
       "<thead><tr><th scope=col>-------------------------------------------------------------------------------------------</th></tr></thead>\n",
       "<tbody>\n",
       "\t<tr><td>Atmospheric CO2 concentrations (ppm) derived from in situ air measurements          </td></tr>\n",
       "\t<tr><td>at Mauna Loa, Observatory, Hawaii: Latitude 19.5°N Longitude 155.6°W Elevation 3397m</td></tr>\n",
       "\t<tr><td>NA                                                                                  </td></tr>\n",
       "\t<tr><td>Source: R. F. Keeling, S. J. Walker, S. C. Piper and A. F. Bollenbacher             </td></tr>\n",
       "\t<tr><td>Scripps CO2 Program ( http://scrippsco2.ucsd.edu )                                  </td></tr>\n",
       "\t<tr><td>Scripps Institution of Oceanography (SIO)                                           </td></tr>\n",
       "</tbody>\n",
       "</table>\n"
      ],
      "text/latex": [
       "\\begin{tabular}{r|l}\n",
       " -------------------------------------------------------------------------------------------\\\\\n",
       "\\hline\n",
       "\t Atmospheric CO2 concentrations (ppm) derived from in situ air measurements          \\\\\n",
       "\t at Mauna Loa, Observatory, Hawaii: Latitude 19.5°N Longitude 155.6°W Elevation 3397m\\\\\n",
       "\t NA                                                                                  \\\\\n",
       "\t Source: R. F. Keeling, S. J. Walker, S. C. Piper and A. F. Bollenbacher             \\\\\n",
       "\t Scripps CO2 Program ( http://scrippsco2.ucsd.edu )                                  \\\\\n",
       "\t Scripps Institution of Oceanography (SIO)                                           \\\\\n",
       "\\end{tabular}\n"
      ],
      "text/markdown": [
       "\n",
       "| ------------------------------------------------------------------------------------------- |\n",
       "|---|\n",
       "| Atmospheric CO2 concentrations (ppm) derived from in situ air measurements           |\n",
       "| at Mauna Loa, Observatory, Hawaii: Latitude 19.5°N Longitude 155.6°W Elevation 3397m |\n",
       "| NA                                                                                   |\n",
       "| Source: R. F. Keeling, S. J. Walker, S. C. Piper and A. F. Bollenbacher              |\n",
       "| Scripps CO2 Program ( http://scrippsco2.ucsd.edu )                                   |\n",
       "| Scripps Institution of Oceanography (SIO)                                            |\n",
       "\n"
      ],
      "text/plain": [
       "  -------------------------------------------------------------------------------------------\n",
       "1 Atmospheric CO2 concentrations (ppm) derived from in situ air measurements                 \n",
       "2 at Mauna Loa, Observatory, Hawaii: Latitude 19.5°N Longitude 155.6°W Elevation 3397m       \n",
       "3 NA                                                                                         \n",
       "4 Source: R. F. Keeling, S. J. Walker, S. C. Piper and A. F. Bollenbacher                    \n",
       "5 Scripps CO2 Program ( http://scrippsco2.ucsd.edu )                                         \n",
       "6 Scripps Institution of Oceanography (SIO)                                                  "
      ]
     },
     "metadata": {},
     "output_type": "display_data"
    }
   ],
   "source": [
    "# Gives an error because the first columns contain a description of the data.\n",
    "CO2 <- read_csv(\"weekly_in_situ_co2_mlo.csv\")\n",
    "# Or CO2 <- read_csv(\"http://scrippsco2.ucsd.edu/assets/data/atmospheric/stations/in_situ_co2/weekly/weekly_in_situ_co2_mlo.csv\")\n",
    "head(CO2)"
   ]
  },
  {
   "cell_type": "code",
   "execution_count": 4,
   "metadata": {
    "ExecuteTime": {
     "end_time": "2019-05-13T14:12:25.829785Z",
     "start_time": "2019-05-13T14:12:24.416Z"
    }
   },
   "outputs": [
    {
     "name": "stderr",
     "output_type": "stream",
     "text": [
      "Parsed with column specification:\n",
      "cols(\n",
      "  Date = col_date(format = \"\"),\n",
      "  `CO2 ppm` = col_double()\n",
      ")\n"
     ]
    },
    {
     "data": {
      "text/html": [
       "<table>\n",
       "<thead><tr><th scope=col>Date</th><th scope=col>CO2 ppm</th></tr></thead>\n",
       "<tbody>\n",
       "\t<tr><td>1958-03-29</td><td>316.19    </td></tr>\n",
       "\t<tr><td>1958-04-05</td><td>317.31    </td></tr>\n",
       "\t<tr><td>1958-04-12</td><td>317.69    </td></tr>\n",
       "\t<tr><td>1958-04-19</td><td>317.58    </td></tr>\n",
       "\t<tr><td>1958-04-26</td><td>316.48    </td></tr>\n",
       "\t<tr><td>1958-05-03</td><td>316.95    </td></tr>\n",
       "</tbody>\n",
       "</table>\n"
      ],
      "text/latex": [
       "\\begin{tabular}{r|ll}\n",
       " Date & CO2 ppm\\\\\n",
       "\\hline\n",
       "\t 1958-03-29 & 316.19    \\\\\n",
       "\t 1958-04-05 & 317.31    \\\\\n",
       "\t 1958-04-12 & 317.69    \\\\\n",
       "\t 1958-04-19 & 317.58    \\\\\n",
       "\t 1958-04-26 & 316.48    \\\\\n",
       "\t 1958-05-03 & 316.95    \\\\\n",
       "\\end{tabular}\n"
      ],
      "text/markdown": [
       "\n",
       "| Date | CO2 ppm |\n",
       "|---|---|\n",
       "| 1958-03-29 | 316.19     |\n",
       "| 1958-04-05 | 317.31     |\n",
       "| 1958-04-12 | 317.69     |\n",
       "| 1958-04-19 | 317.58     |\n",
       "| 1958-04-26 | 316.48     |\n",
       "| 1958-05-03 | 316.95     |\n",
       "\n"
      ],
      "text/plain": [
       "  Date       CO2 ppm\n",
       "1 1958-03-29 316.19 \n",
       "2 1958-04-05 317.31 \n",
       "3 1958-04-12 317.69 \n",
       "4 1958-04-19 317.58 \n",
       "5 1958-04-26 316.48 \n",
       "6 1958-05-03 316.95 "
      ]
     },
     "metadata": {},
     "output_type": "display_data"
    }
   ],
   "source": [
    "CO2 <- read_csv(\"weekly_in_situ_co2_mlo.csv\", skip=44, col_names = c(\"Date\", \"CO2 ppm\"))\n",
    "head(CO2)"
   ]
  },
  {
   "cell_type": "markdown",
   "metadata": {},
   "source": [
    "There are several other optional arguments that may or may not be necessary depending on your case. Honestly, your best bet is to use the RStudio functionality for data importing. There is a tutorial available [here](https://support.rstudio.com/hc/en-us/articles/218611977-Importing-Data-with-RStudio)."
   ]
  },
  {
   "cell_type": "markdown",
   "metadata": {},
   "source": [
    "#### Generating data\n",
    "\n",
    "R has functions associated with well-known probability distributions (see [here](http://www.r-tutor.com/elementary-statistics/probability-distributions)). You can generate samples, calculate the probability density function (i.e., $P(X = k)$) and the cumulative probability function (i.e., $P(X < k)$)."
   ]
  },
  {
   "cell_type": "code",
   "execution_count": 5,
   "metadata": {
    "ExecuteTime": {
     "end_time": "2019-05-13T14:12:26.215753Z",
     "start_time": "2019-05-13T14:12:24.420Z"
    }
   },
   "outputs": [],
   "source": [
    "# The is the documentation for the functions associated with the binomial distribution.\n",
    "?dbinom"
   ]
  },
  {
   "cell_type": "markdown",
   "metadata": {},
   "source": [
    "Consider the following problem:\n",
    "\n",
    "Suppose there are twelve multiple choice questions in an English class quiz. Each question has five possible answers, and only one of them is correct. Find the probability of having four or less correct answers if a student attempts to answer every question at random."
   ]
  },
  {
   "cell_type": "code",
   "execution_count": 6,
   "metadata": {
    "ExecuteTime": {
     "end_time": "2019-05-13T14:12:26.295539Z",
     "start_time": "2019-05-13T14:12:24.424Z"
    }
   },
   "outputs": [
    {
     "data": {
      "text/html": [
       "0.13287555072"
      ],
      "text/latex": [
       "0.13287555072"
      ],
      "text/markdown": [
       "0.13287555072"
      ],
      "text/plain": [
       "[1] 0.1328756"
      ]
     },
     "metadata": {},
     "output_type": "display_data"
    }
   ],
   "source": [
    "# Since only one out of five possible answers is correct, the probability of answering a question\n",
    "# correctly by random is 1/5=0.2. We can find the probability of having exactly 4 correct answers by random attempts as follows.\n",
    "dbinom(4, size=12, prob=0.2)"
   ]
  },
  {
   "cell_type": "code",
   "execution_count": 7,
   "metadata": {
    "ExecuteTime": {
     "end_time": "2019-05-13T14:12:26.343411Z",
     "start_time": "2019-05-13T14:12:24.429Z"
    }
   },
   "outputs": [
    {
     "data": {
      "text/html": [
       "0.92744450048"
      ],
      "text/latex": [
       "0.92744450048"
      ],
      "text/markdown": [
       "0.92744450048"
      ],
      "text/plain": [
       "[1] 0.9274445"
      ]
     },
     "metadata": {},
     "output_type": "display_data"
    }
   ],
   "source": [
    "# To find the probability of having four or less correct answers by random attempts, we apply the function dbinom with x = 0,…,4.\n",
    "dbinom(0, size=12, prob=0.2) + \n",
    "dbinom(1, size=12, prob=0.2) + \n",
    "dbinom(2, size=12, prob=0.2) + \n",
    "dbinom(3, size=12, prob=0.2) + \n",
    "dbinom(4, size=12, prob=0.2) "
   ]
  },
  {
   "cell_type": "code",
   "execution_count": 8,
   "metadata": {
    "ExecuteTime": {
     "end_time": "2019-05-13T14:12:26.379321Z",
     "start_time": "2019-05-13T14:12:24.435Z"
    }
   },
   "outputs": [
    {
     "data": {
      "text/html": [
       "0.92744450048"
      ],
      "text/latex": [
       "0.92744450048"
      ],
      "text/markdown": [
       "0.92744450048"
      ],
      "text/plain": [
       "[1] 0.9274445"
      ]
     },
     "metadata": {},
     "output_type": "display_data"
    }
   ],
   "source": [
    "# Alternatively, we can use the cumulative probability function for binomial distribution pbinom.\n",
    "pbinom(4, size=12, prob=0.2) "
   ]
  },
  {
   "cell_type": "code",
   "execution_count": 9,
   "metadata": {
    "ExecuteTime": {
     "end_time": "2019-05-13T14:12:26.413226Z",
     "start_time": "2019-05-13T14:12:24.439Z"
    },
    "scrolled": true
   },
   "outputs": [
    {
     "data": {
      "text/html": [
       "<ol class=list-inline>\n",
       "\t<li>5</li>\n",
       "\t<li>4</li>\n",
       "\t<li>5</li>\n",
       "\t<li>2</li>\n",
       "\t<li>2</li>\n",
       "\t<li>3</li>\n",
       "\t<li>2</li>\n",
       "\t<li>3</li>\n",
       "\t<li>2</li>\n",
       "\t<li>4</li>\n",
       "\t<li>0</li>\n",
       "\t<li>1</li>\n",
       "\t<li>4</li>\n",
       "\t<li>3</li>\n",
       "\t<li>2</li>\n",
       "\t<li>3</li>\n",
       "\t<li>2</li>\n",
       "\t<li>2</li>\n",
       "\t<li>4</li>\n",
       "\t<li>1</li>\n",
       "\t<li>3</li>\n",
       "\t<li>0</li>\n",
       "\t<li>1</li>\n",
       "\t<li>3</li>\n",
       "\t<li>0</li>\n",
       "\t<li>2</li>\n",
       "\t<li>1</li>\n",
       "\t<li>2</li>\n",
       "\t<li>1</li>\n",
       "\t<li>4</li>\n",
       "</ol>\n"
      ],
      "text/latex": [
       "\\begin{enumerate*}\n",
       "\\item 5\n",
       "\\item 4\n",
       "\\item 5\n",
       "\\item 2\n",
       "\\item 2\n",
       "\\item 3\n",
       "\\item 2\n",
       "\\item 3\n",
       "\\item 2\n",
       "\\item 4\n",
       "\\item 0\n",
       "\\item 1\n",
       "\\item 4\n",
       "\\item 3\n",
       "\\item 2\n",
       "\\item 3\n",
       "\\item 2\n",
       "\\item 2\n",
       "\\item 4\n",
       "\\item 1\n",
       "\\item 3\n",
       "\\item 0\n",
       "\\item 1\n",
       "\\item 3\n",
       "\\item 0\n",
       "\\item 2\n",
       "\\item 1\n",
       "\\item 2\n",
       "\\item 1\n",
       "\\item 4\n",
       "\\end{enumerate*}\n"
      ],
      "text/markdown": [
       "1. 5\n",
       "2. 4\n",
       "3. 5\n",
       "4. 2\n",
       "5. 2\n",
       "6. 3\n",
       "7. 2\n",
       "8. 3\n",
       "9. 2\n",
       "10. 4\n",
       "11. 0\n",
       "12. 1\n",
       "13. 4\n",
       "14. 3\n",
       "15. 2\n",
       "16. 3\n",
       "17. 2\n",
       "18. 2\n",
       "19. 4\n",
       "20. 1\n",
       "21. 3\n",
       "22. 0\n",
       "23. 1\n",
       "24. 3\n",
       "25. 0\n",
       "26. 2\n",
       "27. 1\n",
       "28. 2\n",
       "29. 1\n",
       "30. 4\n",
       "\n",
       "\n"
      ],
      "text/plain": [
       " [1] 5 4 5 2 2 3 2 3 2 4 0 1 4 3 2 3 2 2 4 1 3 0 1 3 0 2 1 2 1 4"
      ]
     },
     "metadata": {},
     "output_type": "display_data"
    }
   ],
   "source": [
    "# If we wanted to generate data for a classroom of 30 students in which everyone answers\n",
    "# all questions at random, we can use the rbinom function as follows.\n",
    "rbinom(n=30, size=12, prob=0.2)"
   ]
  },
  {
   "cell_type": "markdown",
   "metadata": {},
   "source": [
    "The functions associated with other probability distributions work similarly:\n",
    "- `dunif`, `punif`, `unif` for the uniform distribution;\n",
    "- `dnorm`, `pnorm`, `rnorm` for the normal distribution;\n",
    "- `dexp`, `pexp`, `rexp` for the exponential distribution;\n",
    "- etc."
   ]
  },
  {
   "cell_type": "markdown",
   "metadata": {},
   "source": [
    "#### Sampling data\n",
    "\n",
    "The last function we'll be looking at is the `sample()` function. It receives a vector $x$ and returns a random subset of $x$ of a specified size. You can also specify whether you want to sample with or without replacement. Hence:\n",
    "\n",
    "`sample([vector], size = [# of samples], replace = [boolean])`"
   ]
  },
  {
   "cell_type": "code",
   "execution_count": 10,
   "metadata": {
    "ExecuteTime": {
     "end_time": "2019-05-13T14:12:26.464089Z",
     "start_time": "2019-05-13T14:12:24.443Z"
    }
   },
   "outputs": [
    {
     "data": {
      "text/html": [
       "1"
      ],
      "text/latex": [
       "1"
      ],
      "text/markdown": [
       "1"
      ],
      "text/plain": [
       "[1] 1"
      ]
     },
     "metadata": {},
     "output_type": "display_data"
    },
    {
     "data": {
      "text/html": [
       "<ol class=list-inline>\n",
       "\t<li>5</li>\n",
       "\t<li>2</li>\n",
       "\t<li>3</li>\n",
       "</ol>\n"
      ],
      "text/latex": [
       "\\begin{enumerate*}\n",
       "\\item 5\n",
       "\\item 2\n",
       "\\item 3\n",
       "\\end{enumerate*}\n"
      ],
      "text/markdown": [
       "1. 5\n",
       "2. 2\n",
       "3. 3\n",
       "\n",
       "\n"
      ],
      "text/plain": [
       "[1] 5 2 3"
      ]
     },
     "metadata": {},
     "output_type": "display_data"
    }
   ],
   "source": [
    "# If we wanted to throw a fair dice\n",
    "sample(1:6, size=1)\n",
    "\n",
    "# If we wanted to throw a fair dice three times\n",
    "sample(1:6, size=3, replace=TRUE)  # We need replace = TRUE because we may sample the same value more than once"
   ]
  },
  {
   "cell_type": "code",
   "execution_count": 11,
   "metadata": {
    "ExecuteTime": {
     "end_time": "2019-05-13T14:12:26.777252Z",
     "start_time": "2019-05-13T14:12:24.449Z"
    }
   },
   "outputs": [
    {
     "name": "stderr",
     "output_type": "stream",
     "text": [
      "Loading required package: MASS\n",
      "## \n",
      "##  Matching (Version 4.9-2, Build Date: 2015-12-25)\n",
      "##  See http://sekhon.berkeley.edu/matching for additional documentation.\n",
      "##  Please cite software as:\n",
      "##   Jasjeet S. Sekhon. 2011. ``Multivariate and Propensity Score Matching\n",
      "##   Software with Automated Balance Optimization: The Matching package for R.''\n",
      "##   Journal of Statistical Software, 42(7): 1-52. \n",
      "##\n",
      "\n"
     ]
    },
    {
     "name": "stdout",
     "output_type": "stream",
     "text": [
      "Full data: 445 observations. \n",
      "Training data: 356 observations. \n",
      "Test data: 89 observations."
     ]
    }
   ],
   "source": [
    "# Sample() is particularly useful to randomly subset data. For example, last class we saw how to separate a dataset\n",
    "# into training and test sets:\n",
    "library(Matching)\n",
    "data(lalonde)\n",
    "trainingRowIndex <- sample(1:nrow(lalonde), 0.8*nrow(lalonde))  # row indices for training data\n",
    "trainingData <- lalonde[trainingRowIndex, ]  # model training data\n",
    "testData  <- lalonde[-trainingRowIndex, ]   # test data\n",
    "\n",
    "cat(\"Full data:\", nrow(lalonde), \"observations. \\nTraining data:\", nrow(trainingData), \"observations. \\nTest data:\", nrow(testData), \"observations.\")"
   ]
  },
  {
   "cell_type": "markdown",
   "metadata": {},
   "source": [
    "Use R to create a fake data set that contains 200 observations.\n",
    "\n",
    "Your data set should consist of a single (continuous) dependent variable and at least two independent variables (also known as factors, or predictors).\n",
    "\n",
    "Make sure that your independent variables predict the dependent variable, but make sure that they do not PERFECTLY predict the dependent variable. This means you have to add some random noise to your model. Feel free to create this random noise, and your independent variables using R’s random distribution functions (e.g., rnorm, runif) or any other method you wish.\n",
    "\n",
    "E.g., your formula could be:\n",
    "\n",
    "$20*Age + 50*(Education)^2 - 2*Gender + 4*treatment\\_indicator*gender + 10*treat + treatment\\_indicator/(\\log(parents\\_income)) + N(0, 10).$ \n",
    "\n",
    "This rather complex formula would work if you had already created a dataframe with age, education, gender, treatment_indicator, and parents_income. Your formula need not be quite so complex. A simple formula is fine, as long as it meets the requirements. The `N(0, 10)` item at the end is where you would use `rnorm(200, 0, 10)`...\n",
    "Devise a story about the data set — what does it describe? Write down your short story in a paragraph about 3-5 sentences long.\n",
    "\n",
    "Save your data (and the code that created it, if you used code), so that we will be able to utilize your creation whenever necessary."
   ]
  },
  {
   "cell_type": "code",
   "execution_count": 12,
   "metadata": {
    "ExecuteTime": {
     "end_time": "2019-05-13T14:12:26.851057Z",
     "start_time": "2019-05-13T14:12:24.458Z"
    }
   },
   "outputs": [
    {
     "data": {
      "text/html": [
       "<table>\n",
       "<thead><tr><th scope=col>education</th><th scope=col>age</th><th scope=col>wealth</th></tr></thead>\n",
       "<tbody>\n",
       "\t<tr><td>20      </td><td>26      </td><td>2621.805</td></tr>\n",
       "\t<tr><td>20      </td><td>48      </td><td>2609.539</td></tr>\n",
       "\t<tr><td>16      </td><td>49      </td><td>3971.405</td></tr>\n",
       "\t<tr><td>11      </td><td>32      </td><td>2228.562</td></tr>\n",
       "\t<tr><td>18      </td><td>21      </td><td>1891.237</td></tr>\n",
       "\t<tr><td>20      </td><td>23      </td><td>4132.692</td></tr>\n",
       "</tbody>\n",
       "</table>\n"
      ],
      "text/latex": [
       "\\begin{tabular}{r|lll}\n",
       " education & age & wealth\\\\\n",
       "\\hline\n",
       "\t 20       & 26       & 2621.805\\\\\n",
       "\t 20       & 48       & 2609.539\\\\\n",
       "\t 16       & 49       & 3971.405\\\\\n",
       "\t 11       & 32       & 2228.562\\\\\n",
       "\t 18       & 21       & 1891.237\\\\\n",
       "\t 20       & 23       & 4132.692\\\\\n",
       "\\end{tabular}\n"
      ],
      "text/markdown": [
       "\n",
       "| education | age | wealth |\n",
       "|---|---|---|\n",
       "| 20       | 26       | 2621.805 |\n",
       "| 20       | 48       | 2609.539 |\n",
       "| 16       | 49       | 3971.405 |\n",
       "| 11       | 32       | 2228.562 |\n",
       "| 18       | 21       | 1891.237 |\n",
       "| 20       | 23       | 4132.692 |\n",
       "\n"
      ],
      "text/plain": [
       "  education age wealth  \n",
       "1 20        26  2621.805\n",
       "2 20        48  2609.539\n",
       "3 16        49  3971.405\n",
       "4 11        32  2228.562\n",
       "5 18        21  1891.237\n",
       "6 20        23  4132.692"
      ]
     },
     "metadata": {},
     "output_type": "display_data"
    },
    {
     "data": {
      "text/plain": [
       "\n",
       "Call:\n",
       "lm(formula = x ~ Education + Age)\n",
       "\n",
       "Residuals:\n",
       "    Min      1Q  Median      3Q     Max \n",
       "-2393.7  -642.7    48.0   606.7  2600.9 \n",
       "\n",
       "Coefficients:\n",
       "            Estimate Std. Error t value Pr(>|t|)    \n",
       "(Intercept)  284.713    374.981   0.759 0.448596    \n",
       "Education     84.757     21.462   3.949 0.000109 ***\n",
       "Age           21.951      6.611   3.320 0.001072 ** \n",
       "---\n",
       "Signif. codes:  0 '***' 0.001 '**' 0.01 '*' 0.05 '.' 0.1 ' ' 1\n",
       "\n",
       "Residual standard error: 974.7 on 197 degrees of freedom\n",
       "Multiple R-squared:  0.128,\tAdjusted R-squared:  0.1191 \n",
       "F-statistic: 14.45 on 2 and 197 DF,  p-value: 1.389e-06\n"
      ]
     },
     "metadata": {},
     "output_type": "display_data"
    }
   ],
   "source": [
    "Education <- sample(10:20, size=200, replace=TRUE)\n",
    "Age <- sample(15:50, size=200, replace = TRUE)\n",
    "\n",
    "\n",
    "x <- 20 * Age + 100 * Education + rnorm(n=200, 100, 1000)\n",
    "y <- data.frame(\"education\" = Education, \"age\" = Age, \"wealth\" = x)\n",
    "head(y)\n",
    "\n",
    "model <- lm(x ~ Education + Age)\n",
    "\n",
    "summary(model)"
   ]
  },
  {
   "cell_type": "code",
   "execution_count": 13,
   "metadata": {
    "ExecuteTime": {
     "end_time": "2019-05-13T14:12:27.101387Z",
     "start_time": "2019-05-13T14:12:24.462Z"
    }
   },
   "outputs": [],
   "source": [
    "?rnorm"
   ]
  }
 ],
 "metadata": {
  "kernelspec": {
   "display_name": "R",
   "language": "R",
   "name": "ir"
  },
  "language_info": {
   "codemirror_mode": "r",
   "file_extension": ".r",
   "mimetype": "text/x-r-source",
   "name": "R",
   "pygments_lexer": "r",
   "version": "3.4.2"
  },
  "toc": {
   "base_numbering": 1,
   "nav_menu": {},
   "number_sections": true,
   "sideBar": true,
   "skip_h1_title": false,
   "title_cell": "Table of Contents",
   "title_sidebar": "Contents",
   "toc_cell": false,
   "toc_position": {},
   "toc_section_display": true,
   "toc_window_display": false
  },
  "varInspector": {
   "cols": {
    "lenName": 16,
    "lenType": 16,
    "lenVar": 40
   },
   "kernels_config": {
    "python": {
     "delete_cmd_postfix": "",
     "delete_cmd_prefix": "del ",
     "library": "var_list.py",
     "varRefreshCmd": "print(var_dic_list())"
    },
    "r": {
     "delete_cmd_postfix": ") ",
     "delete_cmd_prefix": "rm(",
     "library": "var_list.r",
     "varRefreshCmd": "cat(var_dic_list()) "
    }
   },
   "types_to_exclude": [
    "module",
    "function",
    "builtin_function_or_method",
    "instance",
    "_Feature"
   ],
   "window_display": false
  }
 },
 "nbformat": 4,
 "nbformat_minor": 1
}
