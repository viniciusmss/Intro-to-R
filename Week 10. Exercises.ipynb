{
 "cells": [
  {
   "cell_type": "markdown",
   "metadata": {},
   "source": [
    "Write code to print those numbers which are divisible by 7 and multiple of 5, between 1500 and 2200 (both included)."
   ]
  },
  {
   "cell_type": "code",
   "execution_count": 6,
   "metadata": {},
   "outputs": [
    {
     "name": "stdout",
     "output_type": "stream",
     "text": [
      "[1] 1505\n",
      "[1] 1540\n",
      "[1] 1575\n",
      "[1] 1610\n",
      "[1] 1645\n",
      "[1] 1680\n",
      "[1] 1715\n",
      "[1] 1750\n",
      "[1] 1785\n",
      "[1] 1820\n",
      "[1] 1855\n",
      "[1] 1890\n",
      "[1] 1925\n",
      "[1] 1960\n",
      "[1] 1995\n",
      "[1] 2030\n",
      "[1] 2065\n",
      "[1] 2100\n",
      "[1] 2135\n",
      "[1] 2170\n"
     ]
    }
   ],
   "source": [
    "for (i in 1500:2200) if (i %% (7*5) == 0) print(i)"
   ]
  },
  {
   "cell_type": "markdown",
   "metadata": {},
   "source": [
    "Construct the following pattern, using a nested for loop.\n",
    "```\n",
    "* \n",
    "* * \n",
    "* * * \n",
    "* * * * \n",
    "* * * * * \n",
    "* * * * \n",
    "* * * \n",
    "* * \n",
    "*\n",
    "```\n",
    "\n",
    "Tips: Look up the paste function with ?paste."
   ]
  },
  {
   "cell_type": "code",
   "execution_count": 17,
   "metadata": {},
   "outputs": [
    {
     "name": "stdout",
     "output_type": "stream",
     "text": [
      " *  \n",
      " *  *  \n",
      " *  *  *  \n",
      " *  *  *  *  \n",
      " *  *  *  *  *  \n",
      " *  *  *  *  \n",
      " *  *  *  \n",
      " *  *  \n",
      " *  \n"
     ]
    }
   ],
   "source": [
    "for (i in c(1:5, 4:1)) {\n",
    "    str = \"\"\n",
    "    for (j in 1:i) {\n",
    "        str <- paste(str, \"* \")\n",
    "    }\n",
    "    cat(str,\"\\n\")\n",
    "}  "
   ]
  },
  {
   "cell_type": "markdown",
   "metadata": {},
   "source": [
    "Write code that takes two digits m (row) and n (column) as input and generates a matrix. The element value in the i-th row and j-th column of the matrix should be i\\*j. You have not seen functions yet, so declare m and n in the beginning of your code."
   ]
  },
  {
   "cell_type": "code",
   "execution_count": 1,
   "metadata": {},
   "outputs": [
    {
     "name": "stdout",
     "output_type": "stream",
     "text": [
      "     [,1] [,2] [,3] [,4] [,5]\n",
      "[1,]    1    2    3    4    5\n",
      "[2,]    2    4    6    8   10\n",
      "[3,]    3    6    9   12   15\n",
      "[4,]    4    8   12   16   20\n",
      "[5,]    5   10   15   20   25\n"
     ]
    }
   ],
   "source": [
    "m <- 5\n",
    "n <- 5\n",
    "\n",
    "my_matrix <- matrix(0, nrow=5, ncol=5)\n",
    "\n",
    "for (i in 1:nrow(my_matrix)) {\n",
    "    for (j in 1:ncol(my_matrix)) {\n",
    "        my_matrix[i,j] = i*j\n",
    "    }\n",
    "}\n",
    "\n",
    "print(my_matrix)"
   ]
  },
  {
   "cell_type": "markdown",
   "metadata": {},
   "source": [
    "Write a program to check the validity of password input by users.\n",
    "Validation :\n",
    "\n",
    "* At least 1 letter between [a-z] and 1 letter between [A-Z].\n",
    "* At least 1 number between [0-9].\n",
    "* At least 1 character from [$#@].\n",
    "* Minimum length 6 characters.\n",
    "* Maximum length 16 characters."
   ]
  },
  {
   "cell_type": "code",
   "execution_count": 32,
   "metadata": {},
   "outputs": [
    {
     "name": "stdout",
     "output_type": "stream",
     "text": [
      "[1] \"Passowrd is valid!\"\n"
     ]
    }
   ],
   "source": [
    "password <- \"sd8bnlsS2fD$\"\n",
    "pass_chars <- strsplit(password, split = \"\")[[1]]\n",
    "\n",
    "while (TRUE) {\n",
    "    if (!any(LETTERS %in% pass_chars)) {\n",
    "        print(\"Password invalid. Missing uppercase letter.\")\n",
    "        break\n",
    "    }\n",
    "    \n",
    "    if (!any(letters %in% pass_chars)) {\n",
    "        print(\"Password invalid. Misising lowercase letter.\")\n",
    "        break\n",
    "    }\n",
    "    \n",
    "    if (!any(as.character(0:9) %in% pass_chars)) {\n",
    "        print(\"Password invalid. Missing number.\")\n",
    "    }\n",
    "    \n",
    "    if (!any(c(\"$\", \"#\", \"@\") %in% pass_chars)) {\n",
    "        print(\"Password invalid. Missing $, #, or @.\")\n",
    "        break\n",
    "    }\n",
    "    \n",
    "    if (nchar(password) < 6) {\n",
    "        print(\"Password is too short.\")\n",
    "        break\n",
    "    } else if (nchar(password) > 16) {\n",
    "        print(\"Password is too long.\")\n",
    "        break\n",
    "    }\n",
    "    \n",
    "    print(\"Passowrd is valid!\")\n",
    "    break\n",
    "}\n"
   ]
  },
  {
   "cell_type": "markdown",
   "metadata": {},
   "source": [
    "Write a program to print pascal triangle up to h rows using loop. "
   ]
  },
  {
   "cell_type": "code",
   "execution_count": 40,
   "metadata": {},
   "outputs": [
    {
     "name": "stdout",
     "output_type": "stream",
     "text": [
      "[1] \"                        1 \"\n",
      "[1] \"                      1   1 \"\n",
      "[1] \"                    1   2   1 \"\n",
      "[1] \"                  1   3   3   1 \"\n",
      "[1] \"                1   4   6   4   1 \"\n",
      "[1] \"              1   5  10  10   5   1 \"\n",
      "[1] \"            1   6  15  20  15   6   1 \"\n",
      "[1] \"          1   7  21  35  35  21   7   1 \"\n",
      "[1] \"        1   8  28  56  70  56  28   8   1 \"\n",
      "[1] \"      1   9  36  84 126 126  84  36   9   1 \"\n"
     ]
    }
   ],
   "source": [
    "h <- 10\n",
    "for(i in 0:(h-1)) {\n",
    "  s <- \"\"\n",
    "  for(k in 0:(h-i)) s <- paste(s, \"  \", sep=\"\")\n",
    "  for(j in 0:i) {\n",
    "    s <- paste(s, sprintf(\"%3d \", choose(i, j)), sep=\"\")\n",
    "  }\n",
    "  print(s)\n",
    "}"
   ]
  },
  {
   "cell_type": "markdown",
   "metadata": {},
   "source": [
    "Write a program to find the median of three values."
   ]
  },
  {
   "cell_type": "code",
   "execution_count": 41,
   "metadata": {},
   "outputs": [
    {
     "name": "stdout",
     "output_type": "stream",
     "text": [
      "The median is 9"
     ]
    }
   ],
   "source": [
    "a <- 10\n",
    "b <- 5\n",
    "c <- 9\n",
    "if (a > b) {\n",
    "    if (a < c) median <- a\n",
    "    else if (b > c) median = b\n",
    "    else median = c\n",
    "} else {\n",
    "    if (a > c) median = a\n",
    "    else if (b < c) median = b\n",
    "    else median = c\n",
    "}\n",
    "\n",
    "cat(\"The median is\", median)"
   ]
  }
 ],
 "metadata": {
  "kernelspec": {
   "display_name": "R",
   "language": "R",
   "name": "ir"
  },
  "language_info": {
   "codemirror_mode": "r",
   "file_extension": ".r",
   "mimetype": "text/x-r-source",
   "name": "R",
   "pygments_lexer": "r",
   "version": "3.4.2"
  },
  "toc": {
   "base_numbering": 1,
   "nav_menu": {},
   "number_sections": true,
   "sideBar": true,
   "skip_h1_title": false,
   "title_cell": "Table of Contents",
   "title_sidebar": "Contents",
   "toc_cell": false,
   "toc_position": {},
   "toc_section_display": true,
   "toc_window_display": false
  },
  "varInspector": {
   "cols": {
    "lenName": 16,
    "lenType": 16,
    "lenVar": 40
   },
   "kernels_config": {
    "python": {
     "delete_cmd_postfix": "",
     "delete_cmd_prefix": "del ",
     "library": "var_list.py",
     "varRefreshCmd": "print(var_dic_list())"
    },
    "r": {
     "delete_cmd_postfix": ") ",
     "delete_cmd_prefix": "rm(",
     "library": "var_list.r",
     "varRefreshCmd": "cat(var_dic_list()) "
    }
   },
   "types_to_exclude": [
    "module",
    "function",
    "builtin_function_or_method",
    "instance",
    "_Feature"
   ],
   "window_display": false
  }
 },
 "nbformat": 4,
 "nbformat_minor": 1
}
