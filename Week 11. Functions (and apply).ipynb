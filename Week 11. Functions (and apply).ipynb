{
 "cells": [
  {
   "cell_type": "markdown",
   "metadata": {},
   "source": [
    "## R Prep Minicourse\n",
    "### Week 11: Functions (and apply)\n",
    "\n",
    "**Credits:** [Datacamp's Intermediate R Course](https://www.datacamp.com/courses/intermediate-r)"
   ]
  },
  {
   "cell_type": "markdown",
   "metadata": {},
   "source": [
    "### Function Arguments"
   ]
  },
  {
   "cell_type": "markdown",
   "metadata": {},
   "source": [
    "Before even thinking of using an R function, you should clarify which arguments it expects. All the relevant details such as a description, usage, and arguments can be found in the documentation. To consult the documentation on the `mean()` function, for example, you can use one of following R commands:\n",
    "\n",
    "```\n",
    "help(mean)\n",
    "?mean\n",
    "```\n",
    "\n",
    "A quick hack to see the arguments of the `mean()` function is the `args()` function."
   ]
  },
  {
   "cell_type": "code",
   "execution_count": 1,
   "metadata": {},
   "outputs": [
    {
     "data": {
      "text/html": [
       "<pre class=language-r><code>function (x, ...) \n",
       "NULL</code></pre>"
      ]
     },
     "execution_count": 1,
     "metadata": {},
     "output_type": "execute_result"
    },
    {
     "data": {
      "text/html": [
       "\n",
       "<table width=\"100%\" summary=\"page for mean {base}\"><tr><td>mean {base}</td><td style=\"text-align: right;\">R Documentation</td></tr></table>\n",
       "\n",
       "<h2>Arithmetic Mean</h2>\n",
       "\n",
       "<h3>Description</h3>\n",
       "\n",
       "<p>Generic function for the (trimmed) arithmetic mean.\n",
       "</p>\n",
       "\n",
       "\n",
       "<h3>Usage</h3>\n",
       "\n",
       "<pre>\n",
       "mean(x, ...)\n",
       "\n",
       "## Default S3 method:\n",
       "mean(x, trim = 0, na.rm = FALSE, ...)\n",
       "</pre>\n",
       "\n",
       "\n",
       "<h3>Arguments</h3>\n",
       "\n",
       "<table summary=\"R argblock\">\n",
       "<tr valign=\"top\"><td><code>x</code></td>\n",
       "<td>\n",
       "<p>An <span style=\"font-family: Courier New, Courier; color: #666666;\"><b>R</b></span> object.  Currently there are methods for\n",
       "numeric/logical vectors and date,\n",
       "date-time and time interval objects.  Complex vectors\n",
       "are allowed for <code>trim = 0</code>, only.</p>\n",
       "</td></tr>\n",
       "<tr valign=\"top\"><td><code>trim</code></td>\n",
       "<td>\n",
       "<p>the fraction (0 to 0.5) of observations to be\n",
       "trimmed from each end of <code>x</code> before the mean is computed.\n",
       "Values of trim outside that range are taken as the nearest endpoint.\n",
       "</p>\n",
       "</td></tr>\n",
       "<tr valign=\"top\"><td><code>na.rm</code></td>\n",
       "<td>\n",
       "<p>a logical value indicating whether <code>NA</code>\n",
       "values should be stripped before the computation proceeds.</p>\n",
       "</td></tr>\n",
       "<tr valign=\"top\"><td><code>...</code></td>\n",
       "<td>\n",
       "<p>further arguments passed to or from other methods.</p>\n",
       "</td></tr>\n",
       "</table>\n",
       "\n",
       "\n",
       "<h3>Value</h3>\n",
       "\n",
       "<p>If <code>trim</code> is zero (the default), the arithmetic mean of the\n",
       "values in <code>x</code> is computed, as a numeric or complex vector of\n",
       "length one.  If <code>x</code> is not logical (coerced to numeric), numeric\n",
       "(including integer) or complex, <code>NA_real_</code> is returned, with a warning.\n",
       "</p>\n",
       "<p>If <code>trim</code> is non-zero, a symmetrically trimmed mean is computed\n",
       "with a fraction of <code>trim</code> observations deleted from each end\n",
       "before the mean is computed.\n",
       "</p>\n",
       "\n",
       "\n",
       "<h3>References</h3>\n",
       "\n",
       "<p>Becker, R. A., Chambers, J. M. and Wilks, A. R. (1988)\n",
       "<em>The New S Language</em>.\n",
       "Wadsworth &amp; Brooks/Cole.\n",
       "</p>\n",
       "\n",
       "\n",
       "<h3>See Also</h3>\n",
       "\n",
       "<p><code>weighted.mean</code>, <code>mean.POSIXct</code>,\n",
       "<code>colMeans</code> for row and column means.\n",
       "</p>\n",
       "\n",
       "\n",
       "<h3>Examples</h3>\n",
       "\n",
       "<pre>\n",
       "x &lt;- c(0:10, 50)\n",
       "xm &lt;- mean(x)\n",
       "c(xm, mean(x, trim = 0.10))\n",
       "</pre>\n",
       "\n",
       "<hr /><div style=\"text-align: center;\">[Package <em>base</em> version 3.4.4 ]</div>"
      ]
     },
     "execution_count": 1,
     "metadata": {},
     "output_type": "execute_result"
    }
   ],
   "source": [
    "args(mean)\n",
    "?mean"
   ]
  },
  {
   "cell_type": "markdown",
   "metadata": {},
   "source": [
    "In the help documentation, notice that both trim and na.rm have default values. This makes them **optional arguments**."
   ]
  },
  {
   "cell_type": "markdown",
   "metadata": {},
   "source": [
    "Let's now apply the mean function to the vectors we used last week."
   ]
  },
  {
   "cell_type": "code",
   "execution_count": 2,
   "metadata": {},
   "outputs": [
    {
     "data": {
      "text/html": [
       "10.8571428571429"
      ]
     },
     "execution_count": 2,
     "metadata": {},
     "output_type": "execute_result"
    },
    {
     "data": {
      "text/html": [
       "11.4285714285714"
      ]
     },
     "execution_count": 2,
     "metadata": {},
     "output_type": "execute_result"
    }
   ],
   "source": [
    "# The linkedin and facebook vectors have already been created for you\n",
    "linkedin <- c(16, 9, 13, 5, 2, 17, 14)\n",
    "facebook <- c(17, 7, 5, 16, 8, 13, 14)\n",
    "\n",
    "# Calculate average number of views\n",
    "avg_li <- mean(linkedin)\n",
    "avg_fb <- mean(facebook)\n",
    "\n",
    "avg_li\n",
    "avg_fb"
   ]
  },
  {
   "cell_type": "code",
   "execution_count": 3,
   "metadata": {},
   "outputs": [
    {
     "data": {
      "text/html": [
       "22.2857142857143"
      ]
     },
     "execution_count": 3,
     "metadata": {},
     "output_type": "execute_result"
    },
    {
     "data": {
      "text/html": [
       "22.6"
      ]
     },
     "execution_count": 3,
     "metadata": {},
     "output_type": "execute_result"
    }
   ],
   "source": [
    "# Calculate the mean of the element-wise sum of linkedin and facebook and store the result in a variable avg_sum.\n",
    "avg_sum <- mean(linkedin + facebook)\n",
    "\n",
    "# Calculate the mean once more, but this time set the trim argument equal to 0.2 and assign the result to avg_sum_trimmed.\n",
    "avg_sum_trimmed <- mean(linkedin + facebook, trim = 0.2)\n",
    "\n",
    "# Print out both avg_sum and avg_sum_trimmed; can you spot the difference?\n",
    "avg_sum\n",
    "avg_sum_trimmed"
   ]
  },
  {
   "cell_type": "code",
   "execution_count": 4,
   "metadata": {},
   "outputs": [
    {
     "data": {
      "text/html": [
       "4.25"
      ]
     },
     "execution_count": 4,
     "metadata": {},
     "output_type": "execute_result"
    },
    {
     "data": {
      "text/html": [
       "4"
      ]
     },
     "execution_count": 4,
     "metadata": {},
     "output_type": "execute_result"
    }
   ],
   "source": [
    "x <- c(3, 4, 4, 6)\n",
    "mean(x)\n",
    "mean(x, trim=0.25)"
   ]
  },
  {
   "cell_type": "markdown",
   "metadata": {},
   "source": [
    "The `mean()` function has an optional argument, `na.rm` that specified whether or not to remove missing values from the input vector before calculating the mean.\n",
    "\n",
    "Let's see what happens if your vectors linkedin and facebook contain missing values (`NA`).\n"
   ]
  },
  {
   "cell_type": "code",
   "execution_count": 5,
   "metadata": {},
   "outputs": [
    {
     "data": {
      "text/html": [
       "&lt;NA&gt;"
      ]
     },
     "execution_count": 5,
     "metadata": {},
     "output_type": "execute_result"
    },
    {
     "data": {
      "text/html": [
       "12.3333333333333"
      ]
     },
     "execution_count": 5,
     "metadata": {},
     "output_type": "execute_result"
    }
   ],
   "source": [
    "linkedin <- c(16, 9, 13, 5, NA, 17, 14)\n",
    "facebook <- c(17, NA, 5, 16, 8, 13, 14)\n",
    "\n",
    "# Basic average of linkedin\n",
    "mean(linkedin)\n",
    "\n",
    "# Advanced average of linkedin\n",
    "mean(linkedin, na.rm = TRUE)"
   ]
  },
  {
   "cell_type": "markdown",
   "metadata": {},
   "source": [
    "You already know that R functions return objects that you can then use somewhere else. This makes it easy to use functions inside functions."
   ]
  },
  {
   "cell_type": "code",
   "execution_count": 6,
   "metadata": {},
   "outputs": [
    {
     "data": {
      "text/html": [
       "4.8"
      ]
     },
     "execution_count": 6,
     "metadata": {},
     "output_type": "execute_result"
    }
   ],
   "source": [
    "# Calculate the mean absolute deviation\n",
    "mean(abs(linkedin - facebook), na.rm = TRUE)"
   ]
  },
  {
   "cell_type": "markdown",
   "metadata": {},
   "source": [
    "### Designing your own functions"
   ]
  },
  {
   "cell_type": "markdown",
   "metadata": {},
   "source": [
    "Wow, things are getting serious... you're about to write your own function! Before you have a go at it, have a look at the following function template:\n",
    "\n",
    "```\n",
    "my_fun <- function(arg1, arg2) {\n",
    "  body\n",
    "}\n",
    "```"
   ]
  },
  {
   "cell_type": "code",
   "execution_count": 7,
   "metadata": {},
   "outputs": [
    {
     "data": {
      "text/html": [
       "5"
      ]
     },
     "execution_count": 7,
     "metadata": {},
     "output_type": "execute_result"
    }
   ],
   "source": [
    "# Create a function sum_abs(), that takes two arguments and returns the sum of the absolute values of both arguments.\n",
    "sum_abs <- function(x, y) {\n",
    "    sum(abs(x) + abs(y))\n",
    "}\n",
    "\n",
    "# Call the function sum_abs() with arguments -2 and 3.\n",
    "sum_abs(-2, 3)"
   ]
  },
  {
   "cell_type": "markdown",
   "metadata": {},
   "source": [
    "There are situations in which your function does not require an input. Let's say you want to write a function that gives us the random outcome of throwing a fair die:"
   ]
  },
  {
   "cell_type": "code",
   "execution_count": 8,
   "metadata": {},
   "outputs": [
    {
     "data": {
      "text/html": [
       "2"
      ]
     },
     "execution_count": 8,
     "metadata": {},
     "output_type": "execute_result"
    }
   ],
   "source": [
    "throw_die <- function() {\n",
    "  number <- sample(1:6, size = 1)\n",
    "  number\n",
    "}\n",
    "\n",
    "throw_die()"
   ]
  },
  {
   "cell_type": "markdown",
   "metadata": {},
   "source": [
    "You can define default argument values in your own R functions as well. You can use the following recipe to do so:\n",
    "\n",
    "```\n",
    "my_fun <- function(arg1, arg2 = val2) {\n",
    "  body\n",
    "}\n",
    "```"
   ]
  },
  {
   "cell_type": "code",
   "execution_count": 9,
   "metadata": {},
   "outputs": [
    {
     "name": "stdout",
     "output_type": "stream",
     "text": [
      "[1] \"19 to the power two equals 361\"\n"
     ]
    },
    {
     "data": {
      "text/html": [
       "361"
      ]
     },
     "execution_count": 9,
     "metadata": {},
     "output_type": "execute_result"
    },
    {
     "data": {
      "text/html": [
       "361"
      ]
     },
     "execution_count": 9,
     "metadata": {},
     "output_type": "execute_result"
    }
   ],
   "source": [
    "# Create a function pow_two(): it takes one argument and returns that number squared (that number times itself).\n",
    "# Add an optional argument, named print_info, that is TRUE by default.\n",
    "# Wrap an if construct around the print() function: this function should only be executed if print_info is TRUE.\n",
    "\n",
    "pow_two <- function(x, print_info = TRUE) {\n",
    "  y <- x ^ 2\n",
    "  if (print_info) {\n",
    "    print(paste(x, \"to the power two equals\", y))\n",
    "    }\n",
    "  return(y)\n",
    "}\n",
    "\n",
    "pow_two(19)\n",
    "pow_two(19, 0)"
   ]
  },
  {
   "cell_type": "markdown",
   "metadata": {},
   "source": [
    "Another thing to keep in mind is function scoping. It implies that variables that are defined inside a function are not accessible outside that function. Try running the following code and see if you understand the results:"
   ]
  },
  {
   "cell_type": "code",
   "execution_count": 10,
   "metadata": {},
   "outputs": [
    {
     "data": {
      "text/html": [
       "16"
      ]
     },
     "execution_count": 10,
     "metadata": {},
     "output_type": "execute_result"
    },
    {
     "ename": "ERROR",
     "evalue": "Error in eval(expr, envir, enclos): object 'z' not found\n",
     "output_type": "error",
     "traceback": [
      "Error in eval(expr, envir, enclos): object 'z' not found\nTraceback:\n"
     ]
    }
   ],
   "source": [
    "pow_two <- function(x) {\n",
    "  z <- x ^ 2\n",
    "  return(z)\n",
    "}\n",
    "pow_two(4)\n",
    "z"
   ]
  },
  {
   "cell_type": "markdown",
   "metadata": {},
   "source": [
    "R passes arguments by value. What does this mean? Simply put, it means that an R function cannot change the variable that you input to that function. Let's look at a simple example:"
   ]
  },
  {
   "cell_type": "code",
   "execution_count": 11,
   "metadata": {},
   "outputs": [
    {
     "data": {
      "text/html": [
       "7"
      ]
     },
     "execution_count": 11,
     "metadata": {},
     "output_type": "execute_result"
    }
   ],
   "source": [
    "increment <- function(x, inc = 1) {\n",
    "  x <- x + inc\n",
    "  x\n",
    "}\n",
    "count <- 5\n",
    "a <- increment(count, 2)\n",
    "b <- increment(count)\n",
    "count <- increment(count, 2)\n",
    "count"
   ]
  },
  {
   "cell_type": "markdown",
   "metadata": {},
   "source": [
    "### The apply family"
   ]
  },
  {
   "cell_type": "markdown",
   "metadata": {},
   "source": [
    "Before you go about solving the exercises below, have a look at the documentation of the `lapply()` function. The Usage section shows the following expression:\n",
    "\n",
    "```\n",
    "lapply(X, FUN, ...)\n",
    "```\n",
    "\n",
    "To put it generally, `lapply` takes a vector or list X, and applies the function FUN to each of its members. If FUN requires additional arguments, you pass them after you've specified X and FUN (...). The output of `lapply()` is a list, the same length as X, where each element is the result of applying FUN on the corresponding element of X."
   ]
  },
  {
   "cell_type": "code",
   "execution_count": 12,
   "metadata": {},
   "outputs": [
    {
     "name": "stdout",
     "output_type": "stream",
     "text": [
      "List of 4\n",
      " $ : chr [1:2] \"gauss\" \"1777\"\n",
      " $ : chr [1:2] \"bayes\" \"1702\"\n",
      " $ : chr [1:2] \"pascal\" \"1623\"\n",
      " $ : chr [1:2] \"pearson\" \"1857\"\n"
     ]
    },
    {
     "data": {
      "text/html": [
       "<ol>\n",
       "\t<li><ol class=list-inline>\n",
       "\t<li>'gauss'</li>\n",
       "\t<li>'1777'</li>\n",
       "</ol>\n",
       "</li>\n",
       "\t<li><ol class=list-inline>\n",
       "\t<li>'bayes'</li>\n",
       "\t<li>'1702'</li>\n",
       "</ol>\n",
       "</li>\n",
       "\t<li><ol class=list-inline>\n",
       "\t<li>'pascal'</li>\n",
       "\t<li>'1623'</li>\n",
       "</ol>\n",
       "</li>\n",
       "\t<li><ol class=list-inline>\n",
       "\t<li>'pearson'</li>\n",
       "\t<li>'1857'</li>\n",
       "</ol>\n",
       "</li>\n",
       "</ol>\n"
      ]
     },
     "execution_count": 12,
     "metadata": {},
     "output_type": "execute_result"
    }
   ],
   "source": [
    "# We've compiled a vector of famous mathematicians/statisticians and the year they were born. Up to you to extract some information!\n",
    "pioneers <- c(\"GAUSS:1777\", \"BAYES:1702\", \"PASCAL:1623\", \"PEARSON:1857\")\n",
    "\n",
    "# Split names from birth year\n",
    "split_math <- strsplit(pioneers, split = \":\")\n",
    "\n",
    "# Use lapply() to convert the character vectors in split_math to lowercase letters:\n",
    "# apply tolower() on each of the elements in split_math. \n",
    "split_low <- lapply(split_math, tolower)\n",
    "\n",
    "# Take a look at the structure of split_low\n",
    "str(split_low)\n",
    "split_low"
   ]
  },
  {
   "cell_type": "markdown",
   "metadata": {},
   "source": [
    "You can use `lapply()` on your own functions as well. You just need to code a new function and make sure it is available in the workspace. After that, you can use the function inside `lapply()` just as you did with base R functions."
   ]
  },
  {
   "cell_type": "code",
   "execution_count": 13,
   "metadata": {},
   "outputs": [
    {
     "data": {
      "text/html": [
       "<ol>\n",
       "\t<li>'gauss'</li>\n",
       "\t<li>'bayes'</li>\n",
       "\t<li>'pascal'</li>\n",
       "\t<li>'pearson'</li>\n",
       "</ol>\n"
      ]
     },
     "execution_count": 13,
     "metadata": {},
     "output_type": "execute_result"
    },
    {
     "data": {
      "text/html": [
       "<ol>\n",
       "\t<li>'1777'</li>\n",
       "\t<li>'1702'</li>\n",
       "\t<li>'1623'</li>\n",
       "\t<li>'1857'</li>\n",
       "</ol>\n"
      ]
     },
     "execution_count": 13,
     "metadata": {},
     "output_type": "execute_result"
    }
   ],
   "source": [
    "# Code a function called select_first() that takes a vector as input and returns the first element of this vector.\n",
    "select_first <- function(x) {\n",
    "    x[1]\n",
    "}\n",
    "\n",
    "# Apply select_first() over the elements of split_low with lapply() and assign the result to a new variable names.\n",
    "names <- lapply(split_low, select_first)\n",
    "names\n",
    "\n",
    "# Write a function select_second() that does the exact same thing for the second element of an inputted vector.\n",
    "select_second <- function(x) {\n",
    "    x[2]\n",
    "}\n",
    "\n",
    "# Apply select_second() over split_low: years\n",
    "years <- lapply(split_low, select_second)\n",
    "years"
   ]
  },
  {
   "cell_type": "markdown",
   "metadata": {},
   "source": [
    "Writing your own functions and then using them inside `lapply()` is quite an accomplishment! But defining functions to use them only once is kind of overkill, isn't it? That's why you can use so-called anonymous functions in R.\n",
    "\n",
    "```\n",
    "# Named function\n",
    "triple <- function(x) { 3 * x }\n",
    "\n",
    "# Anonymous function with same implementation\n",
    "function(x) { 3 * x }\n",
    "\n",
    "# Use anonymous function inside lapply()\n",
    "lapply(list(1,2,3), function(x) { 3 * x })\n",
    "```"
   ]
  },
  {
   "cell_type": "code",
   "execution_count": 14,
   "metadata": {},
   "outputs": [],
   "source": [
    "# Transform the two calls of lapply() above such that they use an anonymous function that does the same thing.\n",
    "names <- lapply(split_low, function(x) x[1])\n",
    "years <- lapply(split_low, function(x) x[2])\n"
   ]
  },
  {
   "cell_type": "markdown",
   "metadata": {},
   "source": [
    "`lapply()` provides a way to handle functions that require more than one argument, such as the `multiply()` function:\n",
    "\n",
    "```\n",
    "multiply <- function(x, factor) {\n",
    "  x * factor\n",
    "}\n",
    "lapply(list(1,2,3), multiply, factor = 3)\n",
    "```"
   ]
  },
  {
   "cell_type": "code",
   "execution_count": 15,
   "metadata": {},
   "outputs": [
    {
     "data": {
      "text/html": [
       "<ol>\n",
       "\t<li>'gauss'</li>\n",
       "\t<li>'bayes'</li>\n",
       "\t<li>'pascal'</li>\n",
       "\t<li>'pearson'</li>\n",
       "</ol>\n"
      ]
     },
     "execution_count": 15,
     "metadata": {},
     "output_type": "execute_result"
    },
    {
     "data": {
      "text/html": [
       "<ol>\n",
       "\t<li>'1777'</li>\n",
       "\t<li>'1702'</li>\n",
       "\t<li>'1623'</li>\n",
       "\t<li>'1857'</li>\n",
       "</ol>\n"
      ]
     },
     "execution_count": 15,
     "metadata": {},
     "output_type": "execute_result"
    }
   ],
   "source": [
    "# write a generic version of the select functions that you've coded earlier: select_el(). \n",
    "# It takes a vector as its first argument, and an index as its second argument. \n",
    "# It returns the vector's element at the specified index.\n",
    "\n",
    "select_el <- function(x, index) {\n",
    "  x[index]\n",
    "}\n",
    "\n",
    "names <- lapply(split_low, select_el, 1)\n",
    "years <- lapply(split_low, select_el, 2)\n",
    "names\n",
    "years"
   ]
  }
 ],
 "metadata": {
  "kernelspec": {
   "display_name": "R",
   "language": "R",
   "name": "ir"
  },
  "language_info": {
   "codemirror_mode": "r",
   "file_extension": ".r",
   "mimetype": "text/x-r-source",
   "name": "R",
   "pygments_lexer": "r",
   "version": "3.4.2"
  },
  "toc": {
   "base_numbering": 1,
   "nav_menu": {},
   "number_sections": true,
   "sideBar": true,
   "skip_h1_title": false,
   "title_cell": "Table of Contents",
   "title_sidebar": "Contents",
   "toc_cell": false,
   "toc_position": {},
   "toc_section_display": true,
   "toc_window_display": false
  },
  "varInspector": {
   "cols": {
    "lenName": 16,
    "lenType": 16,
    "lenVar": 40
   },
   "kernels_config": {
    "python": {
     "delete_cmd_postfix": "",
     "delete_cmd_prefix": "del ",
     "library": "var_list.py",
     "varRefreshCmd": "print(var_dic_list())"
    },
    "r": {
     "delete_cmd_postfix": ") ",
     "delete_cmd_prefix": "rm(",
     "library": "var_list.r",
     "varRefreshCmd": "cat(var_dic_list()) "
    }
   },
   "types_to_exclude": [
    "module",
    "function",
    "builtin_function_or_method",
    "instance",
    "_Feature"
   ],
   "window_display": false
  }
 },
 "nbformat": 4,
 "nbformat_minor": 1
}
